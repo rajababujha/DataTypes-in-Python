{
 "cells": [
  {
   "cell_type": "markdown",
   "metadata": {},
   "source": [
    "# DataTypes in Python"
   ]
  },
  {
   "cell_type": "markdown",
   "metadata": {},
   "source": [
    "# There are mainly two types of DataTypes\n",
    "\n",
    "1. ## Mutable\n",
    "    * A mutable DataType can be altered after creation at any time\n",
    "    * list, dict, and set are examples of mutable\n",
    "    * Mutables are a bit slower than Immutable to access the items\n",
    "    * Mutables are used when user need to update the value of variables\n",
    "2. ## Immutable\n",
    "    * Its values can not be altered or updated after creation\n",
    "    * int, float, bool, str, tuple, unicode, complex are immutable\n",
    "    * Immutables are faster to access\n",
    "    * It is used when user does not to update the values"
   ]
  },
  {
   "cell_type": "markdown",
   "metadata": {},
   "source": [
    "## How to Check the DataTypes is Immutable or not ?"
   ]
  },
  {
   "cell_type": "code",
   "execution_count": 16,
   "metadata": {},
   "outputs": [
    {
     "name": "stdout",
     "output_type": "stream",
     "text": [
      " ID of a 140725655011408 and ID of b 140725655011408\n"
     ]
    }
   ],
   "source": [
    "a = 123\n",
    "b = a\n",
    "\n",
    "print(f\" ID of a {id(a)} and ID of b {id(b)}\")\n"
   ]
  },
  {
   "cell_type": "raw",
   "metadata": {},
   "source": [
    "Above you can see the both ids are same."
   ]
  },
  {
   "cell_type": "code",
   "execution_count": 17,
   "metadata": {},
   "outputs": [
    {
     "data": {
      "text/plain": [
       "True"
      ]
     },
     "execution_count": 17,
     "metadata": {},
     "output_type": "execute_result"
    }
   ],
   "source": [
    "id(a) == id(b)"
   ]
  },
  {
   "cell_type": "code",
   "execution_count": 18,
   "metadata": {},
   "outputs": [
    {
     "name": "stdout",
     "output_type": "stream",
     "text": [
      "140725655011440\n"
     ]
    }
   ],
   "source": [
    "a = a + 1\n",
    "print(id(a))\n",
    "\n",
    "## Below the id of a has been change after the add operation\n",
    "## Here the ids of a, and b have been change after the add operation to a."
   ]
  },
  {
   "cell_type": "code",
   "execution_count": 19,
   "metadata": {},
   "outputs": [
    {
     "data": {
      "text/plain": [
       "False"
      ]
     },
     "execution_count": 19,
     "metadata": {},
     "output_type": "execute_result"
    }
   ],
   "source": [
    "id(a) == id(b)"
   ]
  },
  {
   "cell_type": "markdown",
   "metadata": {},
   "source": [
    "## How to Check DataTypes are Immutable?"
   ]
  },
  {
   "cell_type": "code",
   "execution_count": 20,
   "metadata": {},
   "outputs": [
    {
     "name": "stdout",
     "output_type": "stream",
     "text": [
      "ID of a is 1711232539784, and ID of b is 1711232539784\n"
     ]
    }
   ],
   "source": [
    "## Lets take an example of list that is a type of Mutable\n",
    "\n",
    "a = [1,2,3,4]\n",
    "b = a\n",
    "\n",
    "print(f\"ID of a is {id(a)}, and ID of b is {id(b)}\")"
   ]
  },
  {
   "cell_type": "code",
   "execution_count": 21,
   "metadata": {},
   "outputs": [
    {
     "data": {
      "text/plain": [
       "True"
      ]
     },
     "execution_count": 21,
     "metadata": {},
     "output_type": "execute_result"
    }
   ],
   "source": [
    "id(a) == id(b)"
   ]
  },
  {
   "cell_type": "code",
   "execution_count": 22,
   "metadata": {},
   "outputs": [
    {
     "name": "stdout",
     "output_type": "stream",
     "text": [
      "[1, 2, 3]\n"
     ]
    }
   ],
   "source": [
    "## Now altered the list a using pop()\n",
    "a.pop()\n",
    "print(a)"
   ]
  },
  {
   "cell_type": "markdown",
   "metadata": {},
   "source": [
    "### Test the ids are same or not?"
   ]
  },
  {
   "cell_type": "code",
   "execution_count": 23,
   "metadata": {},
   "outputs": [
    {
     "data": {
      "text/plain": [
       "True"
      ]
     },
     "execution_count": 23,
     "metadata": {},
     "output_type": "execute_result"
    }
   ],
   "source": [
    "id(a) == id(b)"
   ]
  },
  {
   "cell_type": "code",
   "execution_count": 24,
   "metadata": {},
   "outputs": [
    {
     "name": "stdout",
     "output_type": "stream",
     "text": [
      "ID of a 1711232539784, and ID of b 1711232539784 are same even after the pop() operation\n"
     ]
    }
   ],
   "source": [
    "print(f\"ID of a {id(a)}, and ID of b {id(b)} are same even after the pop() operation\")"
   ]
  },
  {
   "cell_type": "code",
   "execution_count": null,
   "metadata": {},
   "outputs": [],
   "source": []
  }
 ],
 "metadata": {
  "kernelspec": {
   "display_name": "Python 3",
   "language": "python",
   "name": "python3"
  },
  "language_info": {
   "codemirror_mode": {
    "name": "ipython",
    "version": 3
   },
   "file_extension": ".py",
   "mimetype": "text/x-python",
   "name": "python",
   "nbconvert_exporter": "python",
   "pygments_lexer": "ipython3",
   "version": "3.7.6"
  }
 },
 "nbformat": 4,
 "nbformat_minor": 4
}
